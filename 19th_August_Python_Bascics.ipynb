{
 "cells": [
  {
   "cell_type": "markdown",
   "id": "38f049d5-a532-4b21-a01e-4aa83b127d8c",
   "metadata": {},
   "source": [
    " Python Basics Variable \n",
    " question 1"
   ]
  },
  {
   "cell_type": "code",
   "execution_count": 1,
   "id": "dc8b3987-ce68-4753-892a-02ab5e6c056d",
   "metadata": {},
   "outputs": [
    {
     "name": "stdout",
     "output_type": "stream",
     "text": [
      "After swapping:\n",
      "x =  10\n",
      "y =  5\n"
     ]
    }
   ],
   "source": [
    "#declare varaiable and assigin values\n",
    "x = 5\n",
    "y = 10\n",
    "\n",
    "#swapping values\n",
    "x, y = y, x\n",
    "\n",
    "#print swapped values\n",
    "print(\"After swapping:\")\n",
    "print(\"x = \", x)\n",
    "print(\"y = \", y)\n"
   ]
  },
  {
   "cell_type": "markdown",
   "id": "fd5154da-3337-40ef-bc2d-c8b86d01b5b8",
   "metadata": {},
   "source": [
    "Python Basics Variable question 2"
   ]
  },
  {
   "cell_type": "code",
   "execution_count": 10,
   "id": "78fcc888-ce3a-40ef-a97a-732f9867d086",
   "metadata": {},
   "outputs": [
    {
     "name": "stdin",
     "output_type": "stream",
     "text": [
      "enter the length:  12\n",
      "enter the width:  13\n"
     ]
    },
    {
     "name": "stdout",
     "output_type": "stream",
     "text": [
      "area of rectangle:  156.0\n"
     ]
    }
   ],
   "source": [
    "# ask user for length and width inputs and store them in variables\n",
    "length = float(input(\"enter the length: \"))\n",
    "width = float(input(\"enter the width: \"))\n",
    "\n",
    "# calclate area of rectangle\n",
    "area = length * width\n",
    "\n",
    "# display area\n",
    "print(\"area of rectangle: \",round(area,2))"
   ]
  },
  {
   "cell_type": "markdown",
   "id": "3fd6e5ed-97a4-4593-9e04-6db6edaf40fa",
   "metadata": {},
   "source": [
    "Python Basics Variable question 3"
   ]
  },
  {
   "cell_type": "code",
   "execution_count": 8,
   "id": "1c1ab91b-07ac-42d1-abb4-8013107e3129",
   "metadata": {},
   "outputs": [
    {
     "name": "stdin",
     "output_type": "stream",
     "text": [
      "Enter temperature in Celsius:  37.1\n"
     ]
    },
    {
     "name": "stdout",
     "output_type": "stream",
     "text": [
      "37.1 Celsius is equal to 98.78 Fahrenheit\n"
     ]
    }
   ],
   "source": [
    "# ask user for temperature in Celsius and store in a variable\n",
    "celsius = float(input(\"Enter temperature in Celsius: \"))\n",
    "\n",
    "# Convert Celsius to Fahrenheit\n",
    "fahrenheit = (celsius * 9/5) + 32\n",
    "\n",
    "# Display the result\n",
    "print(f\"{celsius} Celsius is equal to {round(fahrenheit,2)} Fahrenheit\")\n"
   ]
  },
  {
   "cell_type": "markdown",
   "id": "25dd3f13-8ce0-4afd-bcc1-30a9247446a5",
   "metadata": {},
   "source": [
    "String Based Question 1"
   ]
  },
  {
   "cell_type": "code",
   "execution_count": 11,
   "id": "1dff323d-48f0-476d-9a07-065ebec1e252",
   "metadata": {},
   "outputs": [
    {
     "name": "stdin",
     "output_type": "stream",
     "text": [
      "Enter a string:  vivek naidu\n"
     ]
    },
    {
     "name": "stdout",
     "output_type": "stream",
     "text": [
      "The length of string is: 11\n"
     ]
    }
   ],
   "source": [
    "# ask user for input string \n",
    "input_string = input(\"Enter a string: \")\n",
    "\n",
    "# Calculate the length of string\n",
    "length = len(input_string)\n",
    "\n",
    "#print the  length of string\n",
    "print(f\"The length of string is: {length}\")\n"
   ]
  },
  {
   "cell_type": "code",
   "execution_count": 16,
   "id": "b0ef2e1e-5bb4-47a2-9657-28dd7b637c95",
   "metadata": {},
   "outputs": [
    {
     "name": "stdin",
     "output_type": "stream",
     "text": [
      "Enter a sentence:  my name is vivek naidu\n"
     ]
    },
    {
     "name": "stdout",
     "output_type": "stream",
     "text": [
      "The number of vowels in the sentence is: 8\n"
     ]
    }
   ],
   "source": [
    "# ask user for input\n",
    "input_sentence = input(\"Enter a sentence: \")\n",
    "\n",
    "# Convert the input sentence to lowercase for case-insensitive counting\n",
    "sen_lower = input_sentence.lower()\n",
    "\n",
    "# Initialize count varaiable and assign zero\n",
    "count_v = 0\n",
    "\n",
    "# assign vowels to varaiable\n",
    "vowels = \"aeiou\"\n",
    "\n",
    "# Iterate through each character in the lowercase sentence\n",
    "for i in sen_lower:\n",
    "    if i in vowels:\n",
    "        count_v += 1\n",
    "\n",
    "# Print the total count of vowels\n",
    "print(f\"The number of vowels in the sentence is: {count_v}\")\n"
   ]
  },
  {
   "cell_type": "code",
   "execution_count": 26,
   "id": "e5ff54e0-a76f-41ce-9740-ce946999086d",
   "metadata": {},
   "outputs": [
    {
     "name": "stdin",
     "output_type": "stream",
     "text": [
      "Enter a string:  23.0\n"
     ]
    },
    {
     "name": "stdout",
     "output_type": "stream",
     "text": [
      "Reversed string: 0.32\n"
     ]
    }
   ],
   "source": [
    "# ask user for input \n",
    "input_string = input(\"Enter a string: \")\n",
    "\n",
    "# Reverse  using string slicing\n",
    "reversed_string = input_string[::-1]\n",
    "\n",
    "# Print the reversed string\n",
    "print(\"Reversed string:\", reversed_string)\n"
   ]
  },
  {
   "cell_type": "code",
   "execution_count": 25,
   "id": "29db8b76-7e97-4668-b5da-15872381eecf",
   "metadata": {},
   "outputs": [
    {
     "name": "stdin",
     "output_type": "stream",
     "text": [
      "Enter a string:  23.0\n"
     ]
    },
    {
     "name": "stdout",
     "output_type": "stream",
     "text": [
      "The entered string is not a palindrome.\n"
     ]
    }
   ],
   "source": [
    "# ask user for input \n",
    "input_string = input(\"Enter a string: \")\n",
    "\n",
    "# Reverse  using string slicing\n",
    "reversed_string = input_string[::-1]\n",
    "\n",
    "# Check  if the original string and the reversed string are the same and display\n",
    "if input_string.lower() == reversed_string.lower():\n",
    "    print(\"The entered string is a palindrome.\")\n",
    "else:\n",
    "    print(\"The entered string is not a palindrome.\")"
   ]
  },
  {
   "cell_type": "code",
   "execution_count": 27,
   "id": "b2b08fc4-8b63-4c81-93ae-c4896a39b516",
   "metadata": {},
   "outputs": [
    {
     "name": "stdin",
     "output_type": "stream",
     "text": [
      "Enter a string:  v i v e k     a m\n"
     ]
    },
    {
     "name": "stdout",
     "output_type": "stream",
     "text": [
      "Modified string: vivekam\n"
     ]
    }
   ],
   "source": [
    "# ask user for input \n",
    "input_string = input(\"Enter a string: \")\n",
    "\n",
    "# Remove spaces from the string \n",
    "string_nospace = input_string.replace(\" \", \"\")\n",
    "\n",
    "# Print the new string without spaces\n",
    "print(\"Modified string:\", string_nospace)\n"
   ]
  },
  {
   "cell_type": "code",
   "execution_count": null,
   "id": "887f378c-f167-413a-8a50-05e9c290ebb8",
   "metadata": {},
   "outputs": [],
   "source": []
  }
 ],
 "metadata": {
  "kernelspec": {
   "display_name": "Python 3 (ipykernel)",
   "language": "python",
   "name": "python3"
  },
  "language_info": {
   "codemirror_mode": {
    "name": "ipython",
    "version": 3
   },
   "file_extension": ".py",
   "mimetype": "text/x-python",
   "name": "python",
   "nbconvert_exporter": "python",
   "pygments_lexer": "ipython3",
   "version": "3.10.8"
  }
 },
 "nbformat": 4,
 "nbformat_minor": 5
}
